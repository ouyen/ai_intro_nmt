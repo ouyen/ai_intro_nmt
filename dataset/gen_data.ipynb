{
 "cells": [
  {
   "cell_type": "code",
   "execution_count": 1,
   "metadata": {},
   "outputs": [
    {
     "name": "stdout",
     "output_type": "stream",
     "text": [
      "'有中文普通话-英语对应句 - 2022-05-01.tsv'   jupyter.ipynb\n"
     ]
    }
   ],
   "source": [
    "!ls"
   ]
  },
  {
   "cell_type": "markdown",
   "metadata": {},
   "source": [
    "数据预处理 \n",
    "中文繁体2简体+中文jieba分词\n"
   ]
  },
  {
   "cell_type": "code",
   "execution_count": 2,
   "metadata": {},
   "outputs": [],
   "source": [
    "lines = open('有中文普通话-英语对应句 - 2022-05-01.tsv', encoding='utf-8').\\\n",
    "    read().strip().split('\\n')"
   ]
  },
  {
   "cell_type": "code",
   "execution_count": 6,
   "metadata": {},
   "outputs": [
    {
     "data": {
      "text/plain": [
       "['\\ufeff1', '我們試試看！', '413789', \"Let's try it.\"]"
      ]
     },
     "execution_count": 6,
     "metadata": {},
     "output_type": "execute_result"
    }
   ],
   "source": [
    "lines[0].split('\\t')"
   ]
  },
  {
   "cell_type": "code",
   "execution_count": 8,
   "metadata": {},
   "outputs": [],
   "source": [
    "from zhconv import convert"
   ]
  },
  {
   "cell_type": "code",
   "execution_count": 11,
   "metadata": {},
   "outputs": [
    {
     "data": {
      "text/plain": [
       "'我们试试看！'"
      ]
     },
     "execution_count": 11,
     "metadata": {},
     "output_type": "execute_result"
    }
   ],
   "source": [
    "convert('我们试试看！','zh-cn')"
   ]
  },
  {
   "cell_type": "code",
   "execution_count": 13,
   "metadata": {},
   "outputs": [],
   "source": [
    "import re\n",
    "import jieba"
   ]
  },
  {
   "cell_type": "code",
   "execution_count": 22,
   "metadata": {},
   "outputs": [
    {
     "name": "stdout",
     "output_type": "stream",
     "text": [
      "0 / 65528\n",
      "10000 / 65528\n",
      "20000 / 65528\n",
      "30000 / 65528\n",
      "40000 / 65528\n",
      "50000 / 65528\n",
      "60000 / 65528\n"
     ]
    }
   ],
   "source": [
    "new_lines=[]\n",
    "# for line in lines:\n",
    "for i in range(len(lines)):\n",
    "    line=lines[i]\n",
    "    line_list=line.split('\\t')\n",
    "    if len(line_list)!=4:\n",
    "        print(line)\n",
    "        continue\n",
    "    zh_original=line_list[1]\n",
    "    en_original=line_list[-1]\n",
    "    zh_cn=convert(zh_original,'zh-cn')\n",
    "    zh_cut=' '.join(jieba.cut(zh_cn))\n",
    "\n",
    "    s=en_original\n",
    "    s = re.sub(r\"([.!?])\", r\" \\1\", s)\n",
    "    s = re.sub(r\"[^a-zA-Z.!?]+\", r\" \", s)\n",
    "    new_lines.append(zh_cut+'\\t'+s)\n",
    "    if i%10000==0:\n",
    "        print(i,'/',len(lines))"
   ]
  },
  {
   "cell_type": "code",
   "execution_count": 27,
   "metadata": {},
   "outputs": [],
   "source": [
    "with open('zh2en.txt','w',encoding='utf-8') as f:\n",
    "    f.write('\\n'.join(new_lines))"
   ]
  },
  {
   "cell_type": "code",
   "execution_count": null,
   "metadata": {},
   "outputs": [],
   "source": []
  }
 ],
 "metadata": {
  "kernelspec": {
   "display_name": "Python 3",
   "language": "python",
   "name": "python3"
  },
  "language_info": {
   "codemirror_mode": {
    "name": "ipython",
    "version": 3
   },
   "file_extension": ".py",
   "mimetype": "text/x-python",
   "name": "python",
   "nbconvert_exporter": "python",
   "pygments_lexer": "ipython3",
   "version": "3.9.12"
  }
 },
 "nbformat": 4,
 "nbformat_minor": 4
}
