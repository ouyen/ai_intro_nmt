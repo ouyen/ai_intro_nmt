{
 "cells": [
  {
   "cell_type": "code",
   "execution_count": 1,
   "metadata": {},
   "outputs": [
    {
     "name": "stdout",
     "output_type": "stream",
     "text": [
      "cpu\n",
      "Reading lines...\n",
      "Read 65528 sentence pairs\n",
      "Trimmed to 65526 sentence pairs\n",
      "Counting words...\n",
      "Counted words:\n",
      "zh 25079\n",
      "en 15504\n"
     ]
    }
   ],
   "source": [
    "from data_processing import Lang,prepareData\n",
    "\n",
    "t=prepareData()"
   ]
  },
  {
   "cell_type": "code",
   "execution_count": 2,
   "metadata": {},
   "outputs": [
    {
     "name": "stdout",
     "output_type": "stream",
     "text": [
      "39315\n"
     ]
    }
   ],
   "source": [
    "count=0\n",
    "thefile=open(\"./dataset/train_en.txt\")\n",
    "while True:\n",
    "    buffer=thefile.read(1024*8192)\n",
    "    if not buffer:\n",
    "        break\n",
    "    count+=buffer.count('\\n')\n",
    "thefile.close()\n",
    "print(count)"
   ]
  },
  {
   "cell_type": "code",
   "execution_count": 2,
   "metadata": {},
   "outputs": [],
   "source": [
    "input_lang, output_lang, pairs=t[:3]"
   ]
  },
  {
   "cell_type": "code",
   "execution_count": 3,
   "metadata": {},
   "outputs": [],
   "source": [
    "from evaluate import *"
   ]
  },
  {
   "cell_type": "code",
   "execution_count": 4,
   "metadata": {},
   "outputs": [],
   "source": [
    "from config import *"
   ]
  },
  {
   "cell_type": "code",
   "execution_count": 5,
   "metadata": {},
   "outputs": [
    {
     "data": {
      "text/plain": [
       "'./model/v1.0.1'"
      ]
     },
     "execution_count": 5,
     "metadata": {},
     "output_type": "execute_result"
    }
   ],
   "source": [
    "MODEL_PATH"
   ]
  },
  {
   "cell_type": "code",
   "execution_count": 6,
   "metadata": {},
   "outputs": [
    {
     "data": {
      "image/png": "[encoded data removed]",
      "text/plain": [
       "<Figure size 432x288 with 1 Axes>"
      ]
     },
     "metadata": {
      "needs_background": "light"
     },
     "output_type": "display_data"
    }
   ],
   "source": [
    "# if __name__=='__main__':\n",
    "hidden_size = 256\n",
    "encoder1 = EncoderRNN(input_lang.n_words, hidden_size).to(device)\n",
    "encoder1_sd=torch.load(MODEL_PATH+'/encoder1.pt', map_location='cpu')\n",
    "encoder1.load_state_dict(encoder1_sd)\n",
    "\n",
    "attn_decoder1 = AttnDecoderRNN(hidden_size, output_lang.n_words, dropout_p=0.1).to(device)\n",
    "attn_decoder1_sd=torch.load(MODEL_PATH+'/attn_decoder1.pt', map_location='cpu')\n",
    "attn_decoder1.load_state_dict(attn_decoder1_sd)\n",
    "# trainIters(encoder1, attn_decoder1, 75000, print_every=5000)\n",
    "plot_losses=torch.load(MODEL_PATH+'/plot_losses.pt', map_location='cpu')\n",
    "plt.plot(plot_losses)\n",
    "plt.savefig('loss_v1_0_1.jpg',dpi=400)"
   ]
  },
  {
   "cell_type": "code",
   "execution_count": 7,
   "metadata": {},
   "outputs": [
    {
     "name": "stdout",
     "output_type": "stream",
     "text": [
      "> 我 知道 那 不会 真的 发生 。\n",
      "= I know that can t really happen .\n",
      "< I know that that that . . . . <EOS>\n",
      "\n",
      "> 我 不 知道 故事 的 结局 。\n",
      "= I don t know the end of the story .\n",
      "< I don t know the story . <EOS>\n",
      "\n",
      "> 我要 学法语 。\n",
      "= I m going to study French .\n",
      "< I want to study . . <EOS>\n",
      "\n",
      "> 使用 这个 信息 时 ， 我 当然 会 遵循 您 的 要求 。\n",
      "= When using this information I will of course follow your requirements .\n",
      "< I would you to you of the . . . <EOS>\n",
      "\n",
      "> 火车 以 每 小时 50 英里 的 速度 前行 。\n",
      "= The train is going at a speed of miles per hour .\n",
      "< The train has an in in the . <EOS>\n",
      "\n",
      "> 接着 又 有 三个 人上 了 巴士 。\n",
      "= Three more passengers got on the bus .\n",
      "< There is two three hours three hours . <EOS>\n",
      "\n",
      "> 你 能 准时 做好 吗 ？\n",
      "= Can you make it on time ?\n",
      "< Could you get it ? ? <EOS>\n",
      "\n",
      "> 我 将要 去 参加 会议 。\n",
      "= I will go to the meeting .\n",
      "< I go going to the . <EOS>\n",
      "\n",
      "> 你 不是 我 的 朋友 了 。\n",
      "= You re not my friend anymore .\n",
      "< You re my friend friend . <EOS>\n",
      "\n",
      "> 我 感觉 你 想 告诉 我 什么 事 。\n",
      "= I get the feeling you re trying to tell me something .\n",
      "< I want to know what you want to . <EOS>\n",
      "\n"
     ]
    }
   ],
   "source": [
    "evaluateRandomly(input_lang, output_lang, pairs,encoder1, attn_decoder1)"
   ]
  },
  {
   "cell_type": "code",
   "execution_count": 8,
   "metadata": {},
   "outputs": [],
   "source": [
    "import jieba"
   ]
  },
  {
   "cell_type": "code",
   "execution_count": 9,
   "metadata": {},
   "outputs": [],
   "source": [
    "def translate(cn_sentence):\n",
    "    cn_cut=' '.join(jieba.cut(cn_sentence))\n",
    "    print(cn_cut)\n",
    "    en_cut=evaluate(input_lang, output_lang, pairs,encoder1, attn_decoder1, cn_cut)[0]\n",
    "    return ' '.join(en_cut)"
   ]
  },
  {
   "cell_type": "code",
   "execution_count": 10,
   "metadata": {},
   "outputs": [
    {
     "name": "stderr",
     "output_type": "stream",
     "text": [
      "Building prefix dict from the default dictionary ...\n",
      "Loading model from cache /tmp/jieba.cache\n",
      "Loading model cost 1.871 seconds.\n",
      "Prefix dict has been built successfully.\n"
     ]
    },
    {
     "name": "stdout",
     "output_type": "stream",
     "text": [
      "我 喜欢 吃 苹果\n"
     ]
    },
    {
     "data": {
      "text/plain": [
       "'I like apples . <EOS>'"
      ]
     },
     "execution_count": 10,
     "metadata": {},
     "output_type": "execute_result"
    }
   ],
   "source": [
    "translate('我喜欢吃苹果')"
   ]
  },
  {
   "cell_type": "code",
   "execution_count": 7,
   "metadata": {},
   "outputs": [
    {
     "data": {
      "text/plain": [
       "0.8408964276313782"
      ]
     },
     "execution_count": 7,
     "metadata": {},
     "output_type": "execute_result"
    }
   ],
   "source": [
    "from torchtext.data.metrics import bleu_score\n",
    "candidate_corpus = [['My', 'full', 'pytorch', 'test'], ['Another', 'Sentence']]\n",
    "references_corpus = [[['My', 'full', 'pytorch', 'test'], ['Completely', 'Different']], [['No', 'Match']]]\n",
    "bleu_score(candidate_corpus, references_corpus)"
   ]
  },
  {
   "cell_type": "code",
   "execution_count": 21,
   "metadata": {},
   "outputs": [],
   "source": [
    "a=['arrests ', 'Cup ', 'studies ', 'aura ', 'ni ', 'pull ', 'invasion ', 'chart ', 'Pearl ', 'Most ', 'Most ', 'Zhou ', 'Zhou ', 'awkward ']\n",
    "b=['Tom', 'doesn', 't', 'pay', 'attention', 'in', 'school', '.']\n",
    "# bleu_score([a],[[b]])"
   ]
  },
  {
   "cell_type": "code",
   "execution_count": 22,
   "metadata": {},
   "outputs": [],
   "source": [
    "for i in range(len(a)):\n",
    "    a[i]=a[i][:-1]"
   ]
  },
  {
   "cell_type": "code",
   "execution_count": 24,
   "metadata": {},
   "outputs": [
    {
     "data": {
      "text/plain": [
       "0.0"
      ]
     },
     "execution_count": 24,
     "metadata": {},
     "output_type": "execute_result"
    }
   ],
   "source": [
    "bleu_score([a],[[b]])"
   ]
  },
  {
   "cell_type": "code",
   "execution_count": 14,
   "metadata": {},
   "outputs": [
    {
     "data": {
      "text/plain": [
       "0.5081327557563782"
      ]
     },
     "execution_count": 14,
     "metadata": {},
     "output_type": "execute_result"
    }
   ],
   "source": [
    "a='I don t know the end of the story .'\n",
    "b='I don t know the story .'\n",
    "bleu_score([a.split(' ')],[[b.split(' ')]])"
   ]
  },
  {
   "cell_type": "code",
   "execution_count": 16,
   "metadata": {},
   "outputs": [
    {
     "data": {
      "text/plain": [
       "['I', 'don', 't', 'know', 'the', 'story', '.']"
      ]
     },
     "execution_count": 16,
     "metadata": {},
     "output_type": "execute_result"
    }
   ],
   "source": [
    "b.split(' ')"
   ]
  },
  {
   "cell_type": "code",
   "execution_count": 15,
   "metadata": {},
   "outputs": [
    {
     "data": {
      "text/plain": [
       "['I', 'don', 't', 'know', 'the', 'end', 'of', 'the', 'story', '.']"
      ]
     },
     "execution_count": 15,
     "metadata": {},
     "output_type": "execute_result"
    }
   ],
   "source": [
    "a.split(' ')"
   ]
  },
  {
   "cell_type": "code",
   "execution_count": null,
   "metadata": {},
   "outputs": [],
   "source": [
    "# I get the feeling you re trying to tell me something .\n",
    "# < I want to know what you want to . <EOS>"
   ]
  }
 ],
 "metadata": {
  "interpreter": {
   "hash": "561e56bf62cca1748a84adf1b0748f31bf06495a02d387f1e5fdf0506b2e63d8"
  },
  "kernelspec": {
   "display_name": "Python 3.9.12 ('nlp')",
   "language": "python",
   "name": "python3"
  },
  "language_info": {
   "codemirror_mode": {
    "name": "ipython",
    "version": 3
   },
   "file_extension": ".py",
   "mimetype": "text/x-python",
   "name": "python",
   "nbconvert_exporter": "python",
   "pygments_lexer": "ipython3",
   "version": "3.9.12"
  }
 },
 "nbformat": 4,
 "nbformat_minor": 4
}
