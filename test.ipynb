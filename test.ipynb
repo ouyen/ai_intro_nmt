{
 "cells": [
  {
   "cell_type": "code",
   "execution_count": 1,
   "metadata": {},
   "outputs": [
    {
     "name": "stdout",
     "output_type": "stream",
     "text": [
      "cpu\n",
      "['他 能够 超越 所有 困难 。', 'He can overcome any obstacle .']\n"
     ]
    }
   ],
   "source": [
    "from data_processing import load_Langs,Lang\n",
    "\n",
    "input_lang, output_lang, pairs=load_Langs()"
   ]
  },
  {
   "cell_type": "code",
   "execution_count": 3,
   "metadata": {},
   "outputs": [],
   "source": [
    "from evaluate import *"
   ]
  },
  {
   "cell_type": "code",
   "execution_count": 6,
   "metadata": {},
   "outputs": [
    {
     "data": {
      "image/png": "[encoded data removed]",
      "text/plain": [
       "<Figure size 432x288 with 1 Axes>"
      ]
     },
     "metadata": {
      "needs_background": "light"
     },
     "output_type": "display_data"
    }
   ],
   "source": [
    "# if __name__=='__main__':\n",
    "hidden_size = 256\n",
    "encoder1 = EncoderRNN(input_lang.n_words, hidden_size).to(device)\n",
    "encoder1_sd=torch.load(MODEL_PATH+'/encoder1.pt', map_location='cpu')\n",
    "encoder1.load_state_dict(encoder1_sd)\n",
    "\n",
    "attn_decoder1 = AttnDecoderRNN(hidden_size, output_lang.n_words, dropout_p=0.1).to(device)\n",
    "attn_decoder1_sd=torch.load(MODEL_PATH+'/attn_decoder1.pt', map_location='cpu')\n",
    "attn_decoder1.load_state_dict(attn_decoder1_sd)\n",
    "# trainIters(encoder1, attn_decoder1, 75000, print_every=5000)\n",
    "plot_losses=torch.load(MODEL_PATH+'/plot_losses.pt', map_location='cpu')\n",
    "plt.plot(plot_losses)\n",
    "plt.savefig('loss.jpg',dpi=400)"
   ]
  },
  {
   "cell_type": "code",
   "execution_count": 7,
   "metadata": {},
   "outputs": [
    {
     "name": "stdout",
     "output_type": "stream",
     "text": [
      "> 我 不 知道 要 穿 什么 。\n",
      "= I have no idea what to wear .\n",
      "< I don t know what to . . <EOS>\n",
      "\n",
      "> 我 跟 这件 事 无关 。\n",
      "= I have nothing to do with the affair .\n",
      "< I have nothing to do with the . <EOS>\n",
      "\n",
      "> 昨天 我 买 了 这个 。\n",
      "= I bought this yesterday .\n",
      "< I bought this this . <EOS>\n",
      "\n",
      "> 我 想 看 一下 里面 有 什么 。\n",
      "= I want to see what there is inside .\n",
      "< I want to to to . . <EOS>\n",
      "\n",
      "> 他 给 了 她 一张 纸 。\n",
      "= He gave her a piece of paper .\n",
      "< He gave a a of <EOS>\n",
      "\n",
      "> 这个 网站 看起来 不错 。\n",
      "= This website seems quite good .\n",
      "< This room looks very . <EOS>\n",
      "\n",
      "> 他 对 政治 没有 兴趣 。\n",
      "= He has no interest in politics .\n",
      "< He has no interested in . <EOS>\n",
      "\n",
      "> 下 一个 是 谁 ？\n",
      "= Who s next ?\n",
      "< Who is a tonight ? <EOS>\n",
      "\n",
      "> 屁话 ！\n",
      "= Nonsense !\n",
      "< What a ! <EOS>\n",
      "\n",
      "> 她 边走边谈 。\n",
      "= She talked as she walked .\n",
      "< She s a . <EOS>\n",
      "\n"
     ]
    }
   ],
   "source": [
    "evaluateRandomly(input_lang, output_lang, pairs,encoder1, attn_decoder1)"
   ]
  },
  {
   "cell_type": "code",
   "execution_count": 10,
   "metadata": {},
   "outputs": [],
   "source": [
    "import jieba"
   ]
  },
  {
   "cell_type": "code",
   "execution_count": 16,
   "metadata": {},
   "outputs": [],
   "source": [
    "def translate(cn_sentence):\n",
    "    cn_cut=' '.join(jieba.cut(cn_sentence))\n",
    "    print(cn_cut)\n",
    "    en_cut=evaluate(input_lang, output_lang, pairs,encoder1, attn_decoder1, cn_cut)[0]\n",
    "    return ' '.join(en_cut)"
   ]
  },
  {
   "cell_type": "code",
   "execution_count": 30,
   "metadata": {},
   "outputs": [
    {
     "name": "stdout",
     "output_type": "stream",
     "text": [
      "我 喜欢 吃 苹果\n"
     ]
    },
    {
     "data": {
      "text/plain": [
       "'I prefer eating apples . <EOS>'"
      ]
     },
     "execution_count": 30,
     "metadata": {},
     "output_type": "execute_result"
    }
   ],
   "source": [
    "translate('我喜欢吃苹果')"
   ]
  },
  {
   "cell_type": "code",
   "execution_count": null,
   "metadata": {},
   "outputs": [],
   "source": []
  }
 ],
 "metadata": {
  "kernelspec": {
   "display_name": "Python 3",
   "language": "python",
   "name": "python3"
  },
  "language_info": {
   "codemirror_mode": {
    "name": "ipython",
    "version": 3
   },
   "file_extension": ".py",
   "mimetype": "text/x-python",
   "name": "python",
   "nbconvert_exporter": "python",
   "pygments_lexer": "ipython3",
   "version": "3.9.12"
  }
 },
 "nbformat": 4,
 "nbformat_minor": 4
}
